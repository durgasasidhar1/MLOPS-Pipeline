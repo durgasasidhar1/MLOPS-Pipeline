{
 "cells": [
  {
   "cell_type": "markdown",
   "metadata": {},
   "source": [
    "## Basic Imports"
   ]
  },
  {
   "cell_type": "code",
   "execution_count": null,
   "metadata": {},
   "outputs": [],
   "source": []
  },
  {
   "cell_type": "code",
   "execution_count": 2,
   "metadata": {},
   "outputs": [
    {
     "name": "stderr",
     "output_type": "stream",
     "text": [
      "[nltk_data] Downloading package stopwords to\n",
      "[nltk_data]     C:\\Users\\durga\\AppData\\Roaming\\nltk_data...\n",
      "[nltk_data]   Package stopwords is already up-to-date!\n",
      "[nltk_data] Downloading package punkt to\n",
      "[nltk_data]     C:\\Users\\durga\\AppData\\Roaming\\nltk_data...\n",
      "[nltk_data]   Package punkt is already up-to-date!\n"
     ]
    },
    {
     "data": {
      "text/plain": [
       "True"
      ]
     },
     "execution_count": 2,
     "metadata": {},
     "output_type": "execute_result"
    }
   ],
   "source": [
    "# Importing necessary libraries\n",
    "import numpy as np        # For numerical operations\n",
    "import pandas as pd       # For data manipulation and analysis\n",
    "import matplotlib.pyplot as plt  # For data visualization\n",
    "%matplotlib inline\n",
    "\n",
    "# Importing WordCloud for text visualization\n",
    "from wordcloud import WordCloud\n",
    "\n",
    "# Importing NLTK for natural language processing\n",
    "import nltk\n",
    "from nltk.corpus import stopwords    # For stopwords\n",
    "\n",
    "\n",
    "# Downloading NLTK data\n",
    "nltk.download('stopwords')   # Downloading stopwords data\n",
    "nltk.download('punkt')       # Downloading tokenizer data"
   ]
  },
  {
   "cell_type": "code",
   "execution_count": 3,
   "metadata": {},
   "outputs": [
    {
     "data": {
      "text/html": [
       "<div>\n",
       "<style scoped>\n",
       "    .dataframe tbody tr th:only-of-type {\n",
       "        vertical-align: middle;\n",
       "    }\n",
       "\n",
       "    .dataframe tbody tr th {\n",
       "        vertical-align: top;\n",
       "    }\n",
       "\n",
       "    .dataframe thead th {\n",
       "        text-align: right;\n",
       "    }\n",
       "</style>\n",
       "<table border=\"1\" class=\"dataframe\">\n",
       "  <thead>\n",
       "    <tr style=\"text-align: right;\">\n",
       "      <th></th>\n",
       "      <th>v1</th>\n",
       "      <th>v2</th>\n",
       "      <th>Unnamed: 2</th>\n",
       "      <th>Unnamed: 3</th>\n",
       "      <th>Unnamed: 4</th>\n",
       "    </tr>\n",
       "  </thead>\n",
       "  <tbody>\n",
       "    <tr>\n",
       "      <th>0</th>\n",
       "      <td>ham</td>\n",
       "      <td>Go until jurong point, crazy.. Available only ...</td>\n",
       "      <td>NaN</td>\n",
       "      <td>NaN</td>\n",
       "      <td>NaN</td>\n",
       "    </tr>\n",
       "    <tr>\n",
       "      <th>1</th>\n",
       "      <td>ham</td>\n",
       "      <td>Ok lar... Joking wif u oni...</td>\n",
       "      <td>NaN</td>\n",
       "      <td>NaN</td>\n",
       "      <td>NaN</td>\n",
       "    </tr>\n",
       "    <tr>\n",
       "      <th>2</th>\n",
       "      <td>spam</td>\n",
       "      <td>Free entry in 2 a wkly comp to win FA Cup fina...</td>\n",
       "      <td>NaN</td>\n",
       "      <td>NaN</td>\n",
       "      <td>NaN</td>\n",
       "    </tr>\n",
       "    <tr>\n",
       "      <th>3</th>\n",
       "      <td>ham</td>\n",
       "      <td>U dun say so early hor... U c already then say...</td>\n",
       "      <td>NaN</td>\n",
       "      <td>NaN</td>\n",
       "      <td>NaN</td>\n",
       "    </tr>\n",
       "    <tr>\n",
       "      <th>4</th>\n",
       "      <td>ham</td>\n",
       "      <td>Nah I don't think he goes to usf, he lives aro...</td>\n",
       "      <td>NaN</td>\n",
       "      <td>NaN</td>\n",
       "      <td>NaN</td>\n",
       "    </tr>\n",
       "  </tbody>\n",
       "</table>\n",
       "</div>"
      ],
      "text/plain": [
       "     v1                                                 v2 Unnamed: 2  \\\n",
       "0   ham  Go until jurong point, crazy.. Available only ...        NaN   \n",
       "1   ham                      Ok lar... Joking wif u oni...        NaN   \n",
       "2  spam  Free entry in 2 a wkly comp to win FA Cup fina...        NaN   \n",
       "3   ham  U dun say so early hor... U c already then say...        NaN   \n",
       "4   ham  Nah I don't think he goes to usf, he lives aro...        NaN   \n",
       "\n",
       "  Unnamed: 3 Unnamed: 4  \n",
       "0        NaN        NaN  \n",
       "1        NaN        NaN  \n",
       "2        NaN        NaN  \n",
       "3        NaN        NaN  \n",
       "4        NaN        NaN  "
      ]
     },
     "execution_count": 3,
     "metadata": {},
     "output_type": "execute_result"
    }
   ],
   "source": [
    "# Read the CSV file\n",
    "df = pd.read_csv('spam.csv')\n",
    "\n",
    "# Display the first few rows of the DataFrame\n",
    "df.head()"
   ]
  },
  {
   "cell_type": "code",
   "execution_count": 4,
   "metadata": {},
   "outputs": [
    {
     "data": {
      "text/html": [
       "<div>\n",
       "<style scoped>\n",
       "    .dataframe tbody tr th:only-of-type {\n",
       "        vertical-align: middle;\n",
       "    }\n",
       "\n",
       "    .dataframe tbody tr th {\n",
       "        vertical-align: top;\n",
       "    }\n",
       "\n",
       "    .dataframe thead th {\n",
       "        text-align: right;\n",
       "    }\n",
       "</style>\n",
       "<table border=\"1\" class=\"dataframe\">\n",
       "  <thead>\n",
       "    <tr style=\"text-align: right;\">\n",
       "      <th></th>\n",
       "      <th>v1</th>\n",
       "      <th>v2</th>\n",
       "    </tr>\n",
       "  </thead>\n",
       "  <tbody>\n",
       "    <tr>\n",
       "      <th>0</th>\n",
       "      <td>ham</td>\n",
       "      <td>Go until jurong point, crazy.. Available only ...</td>\n",
       "    </tr>\n",
       "    <tr>\n",
       "      <th>1</th>\n",
       "      <td>ham</td>\n",
       "      <td>Ok lar... Joking wif u oni...</td>\n",
       "    </tr>\n",
       "    <tr>\n",
       "      <th>2</th>\n",
       "      <td>spam</td>\n",
       "      <td>Free entry in 2 a wkly comp to win FA Cup fina...</td>\n",
       "    </tr>\n",
       "    <tr>\n",
       "      <th>3</th>\n",
       "      <td>ham</td>\n",
       "      <td>U dun say so early hor... U c already then say...</td>\n",
       "    </tr>\n",
       "    <tr>\n",
       "      <th>4</th>\n",
       "      <td>ham</td>\n",
       "      <td>Nah I don't think he goes to usf, he lives aro...</td>\n",
       "    </tr>\n",
       "  </tbody>\n",
       "</table>\n",
       "</div>"
      ],
      "text/plain": [
       "     v1                                                 v2\n",
       "0   ham  Go until jurong point, crazy.. Available only ...\n",
       "1   ham                      Ok lar... Joking wif u oni...\n",
       "2  spam  Free entry in 2 a wkly comp to win FA Cup fina...\n",
       "3   ham  U dun say so early hor... U c already then say...\n",
       "4   ham  Nah I don't think he goes to usf, he lives aro..."
      ]
     },
     "execution_count": 4,
     "metadata": {},
     "output_type": "execute_result"
    }
   ],
   "source": [
    "df.drop(columns = ['Unnamed: 2', 'Unnamed: 3', 'Unnamed: 4'], inplace = True)\n",
    "df.head()"
   ]
  },
  {
   "cell_type": "code",
   "execution_count": 5,
   "metadata": {},
   "outputs": [
    {
     "data": {
      "text/html": [
       "<div>\n",
       "<style scoped>\n",
       "    .dataframe tbody tr th:only-of-type {\n",
       "        vertical-align: middle;\n",
       "    }\n",
       "\n",
       "    .dataframe tbody tr th {\n",
       "        vertical-align: top;\n",
       "    }\n",
       "\n",
       "    .dataframe thead th {\n",
       "        text-align: right;\n",
       "    }\n",
       "</style>\n",
       "<table border=\"1\" class=\"dataframe\">\n",
       "  <thead>\n",
       "    <tr style=\"text-align: right;\">\n",
       "      <th></th>\n",
       "      <th>target</th>\n",
       "      <th>text</th>\n",
       "    </tr>\n",
       "  </thead>\n",
       "  <tbody>\n",
       "    <tr>\n",
       "      <th>0</th>\n",
       "      <td>ham</td>\n",
       "      <td>Go until jurong point, crazy.. Available only ...</td>\n",
       "    </tr>\n",
       "    <tr>\n",
       "      <th>1</th>\n",
       "      <td>ham</td>\n",
       "      <td>Ok lar... Joking wif u oni...</td>\n",
       "    </tr>\n",
       "    <tr>\n",
       "      <th>2</th>\n",
       "      <td>spam</td>\n",
       "      <td>Free entry in 2 a wkly comp to win FA Cup fina...</td>\n",
       "    </tr>\n",
       "    <tr>\n",
       "      <th>3</th>\n",
       "      <td>ham</td>\n",
       "      <td>U dun say so early hor... U c already then say...</td>\n",
       "    </tr>\n",
       "    <tr>\n",
       "      <th>4</th>\n",
       "      <td>ham</td>\n",
       "      <td>Nah I don't think he goes to usf, he lives aro...</td>\n",
       "    </tr>\n",
       "  </tbody>\n",
       "</table>\n",
       "</div>"
      ],
      "text/plain": [
       "  target                                               text\n",
       "0    ham  Go until jurong point, crazy.. Available only ...\n",
       "1    ham                      Ok lar... Joking wif u oni...\n",
       "2   spam  Free entry in 2 a wkly comp to win FA Cup fina...\n",
       "3    ham  U dun say so early hor... U c already then say...\n",
       "4    ham  Nah I don't think he goes to usf, he lives aro..."
      ]
     },
     "execution_count": 5,
     "metadata": {},
     "output_type": "execute_result"
    }
   ],
   "source": [
    "# Rename the columns name\n",
    "df.rename(columns = {'v1': 'target', 'v2': 'text'}, inplace = True)\n",
    "df.head()"
   ]
  },
  {
   "cell_type": "markdown",
   "metadata": {},
   "source": [
    "## Data Preprocessing"
   ]
  },
  {
   "cell_type": "code",
   "execution_count": 6,
   "metadata": {},
   "outputs": [
    {
     "data": {
      "text/html": [
       "<div>\n",
       "<style scoped>\n",
       "    .dataframe tbody tr th:only-of-type {\n",
       "        vertical-align: middle;\n",
       "    }\n",
       "\n",
       "    .dataframe tbody tr th {\n",
       "        vertical-align: top;\n",
       "    }\n",
       "\n",
       "    .dataframe thead th {\n",
       "        text-align: right;\n",
       "    }\n",
       "</style>\n",
       "<table border=\"1\" class=\"dataframe\">\n",
       "  <thead>\n",
       "    <tr style=\"text-align: right;\">\n",
       "      <th></th>\n",
       "      <th>target</th>\n",
       "      <th>text</th>\n",
       "    </tr>\n",
       "  </thead>\n",
       "  <tbody>\n",
       "    <tr>\n",
       "      <th>0</th>\n",
       "      <td>0</td>\n",
       "      <td>Go until jurong point, crazy.. Available only ...</td>\n",
       "    </tr>\n",
       "    <tr>\n",
       "      <th>1</th>\n",
       "      <td>0</td>\n",
       "      <td>Ok lar... Joking wif u oni...</td>\n",
       "    </tr>\n",
       "    <tr>\n",
       "      <th>2</th>\n",
       "      <td>1</td>\n",
       "      <td>Free entry in 2 a wkly comp to win FA Cup fina...</td>\n",
       "    </tr>\n",
       "    <tr>\n",
       "      <th>3</th>\n",
       "      <td>0</td>\n",
       "      <td>U dun say so early hor... U c already then say...</td>\n",
       "    </tr>\n",
       "    <tr>\n",
       "      <th>4</th>\n",
       "      <td>0</td>\n",
       "      <td>Nah I don't think he goes to usf, he lives aro...</td>\n",
       "    </tr>\n",
       "  </tbody>\n",
       "</table>\n",
       "</div>"
      ],
      "text/plain": [
       "   target                                               text\n",
       "0       0  Go until jurong point, crazy.. Available only ...\n",
       "1       0                      Ok lar... Joking wif u oni...\n",
       "2       1  Free entry in 2 a wkly comp to win FA Cup fina...\n",
       "3       0  U dun say so early hor... U c already then say...\n",
       "4       0  Nah I don't think he goes to usf, he lives aro..."
      ]
     },
     "execution_count": 6,
     "metadata": {},
     "output_type": "execute_result"
    }
   ],
   "source": [
    "from sklearn.preprocessing import LabelEncoder\n",
    "\n",
    "encoder = LabelEncoder()\n",
    "df['target'] = encoder.fit_transform(df['target'])\n",
    "\n",
    "df.head()"
   ]
  },
  {
   "cell_type": "code",
   "execution_count": 7,
   "metadata": {},
   "outputs": [
    {
     "data": {
      "text/plain": [
       "403"
      ]
     },
     "execution_count": 7,
     "metadata": {},
     "output_type": "execute_result"
    }
   ],
   "source": [
    "#check duplicate values\n",
    "df.duplicated().sum()"
   ]
  },
  {
   "cell_type": "code",
   "execution_count": 8,
   "metadata": {},
   "outputs": [
    {
     "data": {
      "text/plain": [
       "5572"
      ]
     },
     "execution_count": 8,
     "metadata": {},
     "output_type": "execute_result"
    }
   ],
   "source": [
    "len(df)"
   ]
  },
  {
   "cell_type": "code",
   "execution_count": 9,
   "metadata": {},
   "outputs": [
    {
     "data": {
      "text/plain": [
       "5169"
      ]
     },
     "execution_count": 9,
     "metadata": {},
     "output_type": "execute_result"
    }
   ],
   "source": [
    "#remove Duplicate\n",
    "df = df.drop_duplicates(keep = 'first')\n",
    "len(df)"
   ]
  },
  {
   "cell_type": "markdown",
   "metadata": {},
   "source": [
    "## Feature Engg"
   ]
  },
  {
   "cell_type": "code",
   "execution_count": 10,
   "metadata": {},
   "outputs": [
    {
     "name": "stderr",
     "output_type": "stream",
     "text": [
      "[nltk_data] Downloading package punkt to\n",
      "[nltk_data]     C:\\Users\\durga\\AppData\\Roaming\\nltk_data...\n",
      "[nltk_data]   Package punkt is already up-to-date!\n",
      "[nltk_data] Downloading package punkt_tab to\n",
      "[nltk_data]     C:\\Users\\durga\\AppData\\Roaming\\nltk_data...\n",
      "[nltk_data]   Package punkt_tab is already up-to-date!\n"
     ]
    },
    {
     "data": {
      "text/plain": [
       "True"
      ]
     },
     "execution_count": 10,
     "metadata": {},
     "output_type": "execute_result"
    }
   ],
   "source": [
    "# Importing the Porter Stemmer for text stemming\n",
    "from nltk.stem.porter import PorterStemmer\n",
    "\n",
    "# Importing the string module for handling special characters\n",
    "import string\n",
    "nltk.download(\"punkt\")\n",
    "# Creating an instance of the Porter Stemmer\n",
    "ps = PorterStemmer()\n",
    "\n",
    "import nltk\n",
    "from nltk.stem import PorterStemmer\n",
    "\n",
    "# Download 'punkt' package only once\n",
    "nltk.download('punkt_tab')\n"
   ]
  },
  {
   "cell_type": "code",
   "execution_count": 11,
   "metadata": {},
   "outputs": [],
   "source": [
    "# Lowercase transformation and text preprocessing function\n",
    "def transform_text(text):\n",
    "    # Transform the text to lowercase\n",
    "    text = text.lower()\n",
    "    \n",
    "    # Tokenization using NLTK\n",
    "    text = nltk.word_tokenize(text)\n",
    "    \n",
    "    # Removing special characters\n",
    "    y = []\n",
    "    for i in text:\n",
    "        if i.isalnum():\n",
    "            y.append(i)\n",
    "            \n",
    "    # Removing stop words and punctuation\n",
    "    text = y[:]\n",
    "    y.clear()\n",
    "    \n",
    "    # Loop through the tokens and remove stopwords and punctuation\n",
    "    for i in text:\n",
    "        if i not in stopwords.words('english') and i not in string.punctuation:\n",
    "            y.append(i)\n",
    "        \n",
    "    # Stemming using Porter Stemmer\n",
    "    text = y[:]\n",
    "    y.clear()\n",
    "    for i in text:\n",
    "        y.append(ps.stem(i))\n",
    "    \n",
    "    # Join the processed tokens back into a single string\n",
    "    return \" \".join(y)"
   ]
  },
  {
   "cell_type": "code",
   "execution_count": 12,
   "metadata": {},
   "outputs": [
    {
     "data": {
      "text/plain": [
       "'go jurong point crazi avail bugi n great world la e buffet cine got amor wat'"
      ]
     },
     "execution_count": 12,
     "metadata": {},
     "output_type": "execute_result"
    }
   ],
   "source": [
    "transform_text('Go until jurong point, crazy.. Available only in bugis n great world la e buffet... Cine there got amore wat...')"
   ]
  },
  {
   "cell_type": "code",
   "execution_count": 17,
   "metadata": {},
   "outputs": [
    {
     "data": {
      "text/plain": [
       "0       Go until jurong point, crazy.. Available only ...\n",
       "1                           Ok lar... Joking wif u oni...\n",
       "2       Free entry in 2 a wkly comp to win FA Cup fina...\n",
       "3       U dun say so early hor... U c already then say...\n",
       "4       Nah I don't think he goes to usf, he lives aro...\n",
       "                              ...                        \n",
       "5567    This is the 2nd time we have tried 2 contact u...\n",
       "5568                Will Ì_ b going to esplanade fr home?\n",
       "5569    Pity, * was in mood for that. So...any other s...\n",
       "5570    The guy did some bitching but I acted like i'd...\n",
       "5571                           Rofl. Its true to its name\n",
       "Name: text, Length: 5169, dtype: object"
      ]
     },
     "execution_count": 17,
     "metadata": {},
     "output_type": "execute_result"
    }
   ],
   "source": [
    "df.loc[:,'text']"
   ]
  },
  {
   "cell_type": "code",
   "execution_count": null,
   "metadata": {},
   "outputs": [
    {
     "data": {
      "text/html": [
       "<div>\n",
       "<style scoped>\n",
       "    .dataframe tbody tr th:only-of-type {\n",
       "        vertical-align: middle;\n",
       "    }\n",
       "\n",
       "    .dataframe tbody tr th {\n",
       "        vertical-align: top;\n",
       "    }\n",
       "\n",
       "    .dataframe thead th {\n",
       "        text-align: right;\n",
       "    }\n",
       "</style>\n",
       "<table border=\"1\" class=\"dataframe\">\n",
       "  <thead>\n",
       "    <tr style=\"text-align: right;\">\n",
       "      <th></th>\n",
       "      <th>target</th>\n",
       "      <th>text</th>\n",
       "      <th>transformed_text</th>\n",
       "    </tr>\n",
       "  </thead>\n",
       "  <tbody>\n",
       "    <tr>\n",
       "      <th>0</th>\n",
       "      <td>0</td>\n",
       "      <td>Go until jurong point, crazy.. Available only ...</td>\n",
       "      <td>go jurong point crazi avail bugi n great world...</td>\n",
       "    </tr>\n",
       "    <tr>\n",
       "      <th>1</th>\n",
       "      <td>0</td>\n",
       "      <td>Ok lar... Joking wif u oni...</td>\n",
       "      <td>ok lar joke wif u oni</td>\n",
       "    </tr>\n",
       "    <tr>\n",
       "      <th>2</th>\n",
       "      <td>1</td>\n",
       "      <td>Free entry in 2 a wkly comp to win FA Cup fina...</td>\n",
       "      <td>free entri 2 wkli comp win fa cup final tkt 21...</td>\n",
       "    </tr>\n",
       "    <tr>\n",
       "      <th>3</th>\n",
       "      <td>0</td>\n",
       "      <td>U dun say so early hor... U c already then say...</td>\n",
       "      <td>u dun say earli hor u c alreadi say</td>\n",
       "    </tr>\n",
       "    <tr>\n",
       "      <th>4</th>\n",
       "      <td>0</td>\n",
       "      <td>Nah I don't think he goes to usf, he lives aro...</td>\n",
       "      <td>nah think goe usf live around though</td>\n",
       "    </tr>\n",
       "  </tbody>\n",
       "</table>\n",
       "</div>"
      ],
      "text/plain": [
       "   target                                               text  \\\n",
       "0       0  Go until jurong point, crazy.. Available only ...   \n",
       "1       0                      Ok lar... Joking wif u oni...   \n",
       "2       1  Free entry in 2 a wkly comp to win FA Cup fina...   \n",
       "3       0  U dun say so early hor... U c already then say...   \n",
       "4       0  Nah I don't think he goes to usf, he lives aro...   \n",
       "\n",
       "                                    transformed_text  \n",
       "0  go jurong point crazi avail bugi n great world...  \n",
       "1                              ok lar joke wif u oni  \n",
       "2  free entri 2 wkli comp win fa cup final tkt 21...  \n",
       "3                u dun say earli hor u c alreadi say  \n",
       "4               nah think goe usf live around though  "
      ]
     },
     "execution_count": 30,
     "metadata": {},
     "output_type": "execute_result"
    }
   ],
   "source": [
    "df['transformed_text'] = df['text'].apply(transform_text)\n",
    "df.head()"
   ]
  },
  {
   "cell_type": "code",
   "execution_count": null,
   "metadata": {},
   "outputs": [],
   "source": [
    "from sklearn.feature_extraction.text import CountVectorizer, TfidfVectorizer\n",
    "tfid = TfidfVectorizer(max_features = 500)"
   ]
  },
  {
   "cell_type": "code",
   "execution_count": null,
   "metadata": {},
   "outputs": [],
   "source": [
    "X = tfid.fit_transform(df['transformed_text']).toarray()\n",
    "y = df['target'].values"
   ]
  },
  {
   "cell_type": "markdown",
   "metadata": {},
   "source": [
    "## Train Test Split"
   ]
  },
  {
   "cell_type": "code",
   "execution_count": null,
   "metadata": {},
   "outputs": [],
   "source": [
    "from sklearn.model_selection import train_test_split\n",
    "X_train, X_test , y_train, y_test = train_test_split(X,y,test_size = 0.20, random_state = 2)"
   ]
  },
  {
   "cell_type": "markdown",
   "metadata": {},
   "source": [
    "## Model Training"
   ]
  },
  {
   "cell_type": "code",
   "execution_count": null,
   "metadata": {},
   "outputs": [
    {
     "name": "stdout",
     "output_type": "stream",
     "text": [
      "Collecting xgboost\n",
      "  Downloading xgboost-3.0.2-py3-none-win_amd64.whl.metadata (2.1 kB)\n",
      "Requirement already satisfied: numpy in c:\\users\\durga\\anaconda3\\lib\\site-packages (from xgboost) (1.26.4)\n",
      "Requirement already satisfied: scipy in c:\\users\\durga\\anaconda3\\lib\\site-packages (from xgboost) (1.13.1)\n",
      "Downloading xgboost-3.0.2-py3-none-win_amd64.whl (150.0 MB)\n",
      "   ---------------------------------------- 0.0/150.0 MB ? eta -:--:--\n",
      "   ---------------------------------------- 0.5/150.0 MB 5.6 MB/s eta 0:00:27\n",
      "   ---------------------------------------- 1.6/150.0 MB 4.9 MB/s eta 0:00:31\n",
      "   ---------------------------------------- 1.8/150.0 MB 3.4 MB/s eta 0:00:45\n",
      "    --------------------------------------- 2.9/150.0 MB 4.1 MB/s eta 0:00:36\n",
      "   - -------------------------------------- 3.9/150.0 MB 4.0 MB/s eta 0:00:37\n",
      "   - -------------------------------------- 4.7/150.0 MB 3.9 MB/s eta 0:00:38\n",
      "   - -------------------------------------- 5.5/150.0 MB 3.9 MB/s eta 0:00:38\n",
      "   - -------------------------------------- 5.8/150.0 MB 3.8 MB/s eta 0:00:38\n",
      "   - -------------------------------------- 7.1/150.0 MB 3.8 MB/s eta 0:00:38\n",
      "   -- ------------------------------------- 7.9/150.0 MB 3.7 MB/s eta 0:00:38\n",
      "   -- ------------------------------------- 8.4/150.0 MB 3.7 MB/s eta 0:00:38\n",
      "   -- ------------------------------------- 9.2/150.0 MB 3.7 MB/s eta 0:00:38\n",
      "   -- ------------------------------------- 10.0/150.0 MB 3.7 MB/s eta 0:00:38\n",
      "   -- ------------------------------------- 10.7/150.0 MB 3.7 MB/s eta 0:00:38\n",
      "   --- ------------------------------------ 11.5/150.0 MB 3.7 MB/s eta 0:00:38\n",
      "   --- ------------------------------------ 12.3/150.0 MB 3.7 MB/s eta 0:00:38\n",
      "   --- ------------------------------------ 13.1/150.0 MB 3.7 MB/s eta 0:00:38\n",
      "   --- ------------------------------------ 13.9/150.0 MB 3.7 MB/s eta 0:00:37\n",
      "   --- ------------------------------------ 14.7/150.0 MB 3.6 MB/s eta 0:00:38\n",
      "   ---- ----------------------------------- 15.2/150.0 MB 3.6 MB/s eta 0:00:38\n",
      "   ---- ----------------------------------- 16.0/150.0 MB 3.6 MB/s eta 0:00:38\n",
      "   ---- ----------------------------------- 16.8/150.0 MB 3.6 MB/s eta 0:00:37\n",
      "   ---- ----------------------------------- 17.6/150.0 MB 3.6 MB/s eta 0:00:37\n",
      "   ---- ----------------------------------- 18.4/150.0 MB 3.6 MB/s eta 0:00:37\n",
      "   ----- ---------------------------------- 19.1/150.0 MB 3.6 MB/s eta 0:00:37\n",
      "   ----- ---------------------------------- 19.9/150.0 MB 3.6 MB/s eta 0:00:37\n",
      "   ----- ---------------------------------- 20.7/150.0 MB 3.6 MB/s eta 0:00:36\n",
      "   ----- ---------------------------------- 21.5/150.0 MB 3.6 MB/s eta 0:00:36\n",
      "   ----- ---------------------------------- 22.3/150.0 MB 3.6 MB/s eta 0:00:36\n",
      "   ------ --------------------------------- 23.1/150.0 MB 3.6 MB/s eta 0:00:36\n",
      "   ------ --------------------------------- 23.9/150.0 MB 3.6 MB/s eta 0:00:35\n",
      "   ------ --------------------------------- 24.6/150.0 MB 3.6 MB/s eta 0:00:35\n",
      "   ------ --------------------------------- 25.4/150.0 MB 3.6 MB/s eta 0:00:35\n",
      "   ------ --------------------------------- 26.2/150.0 MB 3.6 MB/s eta 0:00:35\n",
      "   ------- -------------------------------- 26.7/150.0 MB 3.6 MB/s eta 0:00:35\n",
      "   ------- -------------------------------- 27.5/150.0 MB 3.6 MB/s eta 0:00:35\n",
      "   ------- -------------------------------- 28.3/150.0 MB 3.6 MB/s eta 0:00:34\n",
      "   ------- -------------------------------- 29.1/150.0 MB 3.6 MB/s eta 0:00:34\n",
      "   ------- -------------------------------- 29.9/150.0 MB 3.6 MB/s eta 0:00:34\n",
      "   -------- ------------------------------- 30.7/150.0 MB 3.6 MB/s eta 0:00:34\n",
      "   -------- ------------------------------- 31.5/150.0 MB 3.6 MB/s eta 0:00:34\n",
      "   -------- ------------------------------- 32.2/150.0 MB 3.6 MB/s eta 0:00:33\n",
      "   -------- ------------------------------- 33.0/150.0 MB 3.6 MB/s eta 0:00:33\n",
      "   --------- ------------------------------ 33.8/150.0 MB 3.6 MB/s eta 0:00:33\n",
      "   --------- ------------------------------ 34.6/150.0 MB 3.6 MB/s eta 0:00:33\n",
      "   --------- ------------------------------ 35.4/150.0 MB 3.6 MB/s eta 0:00:32\n",
      "   --------- ------------------------------ 36.2/150.0 MB 3.6 MB/s eta 0:00:32\n",
      "   --------- ------------------------------ 37.0/150.0 MB 3.6 MB/s eta 0:00:32\n",
      "   ---------- ----------------------------- 37.7/150.0 MB 3.6 MB/s eta 0:00:32\n",
      "   ---------- ----------------------------- 38.3/150.0 MB 3.6 MB/s eta 0:00:32\n",
      "   ---------- ----------------------------- 39.1/150.0 MB 3.6 MB/s eta 0:00:31\n",
      "   ---------- ----------------------------- 39.8/150.0 MB 3.6 MB/s eta 0:00:31\n",
      "   ---------- ----------------------------- 40.6/150.0 MB 3.6 MB/s eta 0:00:31\n",
      "   ----------- ---------------------------- 41.4/150.0 MB 3.6 MB/s eta 0:00:31\n",
      "   ----------- ---------------------------- 42.2/150.0 MB 3.6 MB/s eta 0:00:31\n",
      "   ----------- ---------------------------- 43.0/150.0 MB 3.6 MB/s eta 0:00:30\n",
      "   ----------- ---------------------------- 43.8/150.0 MB 3.6 MB/s eta 0:00:30\n",
      "   ----------- ---------------------------- 44.3/150.0 MB 3.6 MB/s eta 0:00:30\n",
      "   ------------ --------------------------- 45.1/150.0 MB 3.6 MB/s eta 0:00:30\n",
      "   ------------ --------------------------- 45.9/150.0 MB 3.6 MB/s eta 0:00:30\n",
      "   ------------ --------------------------- 46.7/150.0 MB 3.6 MB/s eta 0:00:29\n",
      "   ------------ --------------------------- 47.4/150.0 MB 3.6 MB/s eta 0:00:29\n",
      "   ------------ --------------------------- 48.2/150.0 MB 3.6 MB/s eta 0:00:29\n",
      "   ------------- -------------------------- 49.0/150.0 MB 3.6 MB/s eta 0:00:29\n",
      "   ------------- -------------------------- 49.8/150.0 MB 3.6 MB/s eta 0:00:28\n",
      "   ------------- -------------------------- 50.6/150.0 MB 3.6 MB/s eta 0:00:28\n",
      "   ------------- -------------------------- 51.4/150.0 MB 3.6 MB/s eta 0:00:28\n",
      "   ------------- -------------------------- 52.2/150.0 MB 3.6 MB/s eta 0:00:28\n",
      "   -------------- ------------------------- 53.0/150.0 MB 3.6 MB/s eta 0:00:28\n",
      "   -------------- ------------------------- 53.5/150.0 MB 3.6 MB/s eta 0:00:27\n",
      "   -------------- ------------------------- 54.0/150.0 MB 3.6 MB/s eta 0:00:27\n",
      "   -------------- ------------------------- 55.1/150.0 MB 3.6 MB/s eta 0:00:27\n",
      "   -------------- ------------------------- 55.8/150.0 MB 3.6 MB/s eta 0:00:27\n",
      "   --------------- ------------------------ 56.6/150.0 MB 3.6 MB/s eta 0:00:27\n",
      "   --------------- ------------------------ 57.4/150.0 MB 3.6 MB/s eta 0:00:26\n",
      "   --------------- ------------------------ 58.2/150.0 MB 3.6 MB/s eta 0:00:26\n",
      "   --------------- ------------------------ 59.0/150.0 MB 3.6 MB/s eta 0:00:26\n",
      "   --------------- ------------------------ 59.8/150.0 MB 3.6 MB/s eta 0:00:26\n",
      "   ---------------- ----------------------- 60.6/150.0 MB 3.6 MB/s eta 0:00:26\n",
      "   ---------------- ----------------------- 61.3/150.0 MB 3.6 MB/s eta 0:00:25\n",
      "   ---------------- ----------------------- 62.1/150.0 MB 3.6 MB/s eta 0:00:25\n",
      "   ---------------- ----------------------- 62.9/150.0 MB 3.6 MB/s eta 0:00:25\n",
      "   ---------------- ----------------------- 63.7/150.0 MB 3.6 MB/s eta 0:00:25\n",
      "   ----------------- ---------------------- 64.5/150.0 MB 3.6 MB/s eta 0:00:24\n",
      "   ----------------- ---------------------- 65.3/150.0 MB 3.6 MB/s eta 0:00:24\n",
      "   ----------------- ---------------------- 66.1/150.0 MB 3.6 MB/s eta 0:00:24\n",
      "   ----------------- ---------------------- 66.8/150.0 MB 3.6 MB/s eta 0:00:24\n",
      "   ------------------ --------------------- 67.6/150.0 MB 3.6 MB/s eta 0:00:24\n",
      "   ------------------ --------------------- 68.4/150.0 MB 3.6 MB/s eta 0:00:23\n",
      "   ------------------ --------------------- 69.2/150.0 MB 3.6 MB/s eta 0:00:23\n",
      "   ------------------ --------------------- 69.7/150.0 MB 3.6 MB/s eta 0:00:23\n",
      "   ------------------ --------------------- 70.5/150.0 MB 3.6 MB/s eta 0:00:23\n",
      "   ------------------- -------------------- 71.3/150.0 MB 3.6 MB/s eta 0:00:23\n",
      "   ------------------- -------------------- 71.8/150.0 MB 3.6 MB/s eta 0:00:22\n",
      "   ------------------- -------------------- 72.6/150.0 MB 3.6 MB/s eta 0:00:22\n",
      "   ------------------- -------------------- 73.4/150.0 MB 3.6 MB/s eta 0:00:22\n",
      "   ------------------- -------------------- 74.2/150.0 MB 3.6 MB/s eta 0:00:22\n",
      "   ------------------- -------------------- 75.0/150.0 MB 3.6 MB/s eta 0:00:22\n",
      "   -------------------- ------------------- 75.5/150.0 MB 3.6 MB/s eta 0:00:21\n",
      "   -------------------- ------------------- 76.3/150.0 MB 3.6 MB/s eta 0:00:21\n",
      "   -------------------- ------------------- 77.3/150.0 MB 3.6 MB/s eta 0:00:21\n",
      "   -------------------- ------------------- 78.1/150.0 MB 3.6 MB/s eta 0:00:21\n",
      "   --------------------- ------------------ 78.9/150.0 MB 3.6 MB/s eta 0:00:20\n",
      "   --------------------- ------------------ 79.7/150.0 MB 3.6 MB/s eta 0:00:20\n",
      "   --------------------- ------------------ 80.5/150.0 MB 3.6 MB/s eta 0:00:20\n",
      "   --------------------- ------------------ 81.0/150.0 MB 3.6 MB/s eta 0:00:20\n",
      "   --------------------- ------------------ 81.8/150.0 MB 3.6 MB/s eta 0:00:20\n",
      "   ---------------------- ----------------- 82.6/150.0 MB 3.6 MB/s eta 0:00:19\n",
      "   ---------------------- ----------------- 83.4/150.0 MB 3.6 MB/s eta 0:00:19\n",
      "   ---------------------- ----------------- 84.1/150.0 MB 3.6 MB/s eta 0:00:19\n",
      "   ---------------------- ----------------- 85.2/150.0 MB 3.6 MB/s eta 0:00:19\n",
      "   ---------------------- ----------------- 86.0/150.0 MB 3.6 MB/s eta 0:00:18\n",
      "   ----------------------- ---------------- 86.8/150.0 MB 3.6 MB/s eta 0:00:18\n",
      "   ----------------------- ---------------- 87.6/150.0 MB 3.6 MB/s eta 0:00:18\n",
      "   ----------------------- ---------------- 88.3/150.0 MB 3.6 MB/s eta 0:00:18\n",
      "   ----------------------- ---------------- 89.1/150.0 MB 3.6 MB/s eta 0:00:18\n",
      "   ----------------------- ---------------- 89.9/150.0 MB 3.6 MB/s eta 0:00:17\n",
      "   ------------------------ --------------- 90.4/150.0 MB 3.6 MB/s eta 0:00:17\n",
      "   ------------------------ --------------- 91.2/150.0 MB 3.6 MB/s eta 0:00:17\n",
      "   ------------------------ --------------- 92.0/150.0 MB 3.6 MB/s eta 0:00:17\n",
      "   ------------------------ --------------- 92.8/150.0 MB 3.6 MB/s eta 0:00:17\n",
      "   ------------------------ --------------- 93.6/150.0 MB 3.6 MB/s eta 0:00:16\n",
      "   ------------------------- -------------- 94.4/150.0 MB 3.6 MB/s eta 0:00:16\n",
      "   ------------------------- -------------- 95.2/150.0 MB 3.6 MB/s eta 0:00:16\n",
      "   ------------------------- -------------- 95.9/150.0 MB 3.6 MB/s eta 0:00:16\n",
      "   ------------------------- -------------- 96.7/150.0 MB 3.6 MB/s eta 0:00:15\n",
      "   -------------------------- ------------- 97.5/150.0 MB 3.6 MB/s eta 0:00:15\n",
      "   -------------------------- ------------- 98.0/150.0 MB 3.6 MB/s eta 0:00:15\n",
      "   -------------------------- ------------- 99.1/150.0 MB 3.6 MB/s eta 0:00:15\n",
      "   -------------------------- ------------- 99.9/150.0 MB 3.6 MB/s eta 0:00:15\n",
      "   -------------------------- ------------- 100.4/150.0 MB 3.6 MB/s eta 0:00:14\n",
      "   -------------------------- ------------- 101.2/150.0 MB 3.6 MB/s eta 0:00:14\n",
      "   --------------------------- ------------ 102.0/150.0 MB 3.6 MB/s eta 0:00:14\n",
      "   --------------------------- ------------ 102.8/150.0 MB 3.6 MB/s eta 0:00:14\n",
      "   --------------------------- ------------ 103.5/150.0 MB 3.6 MB/s eta 0:00:14\n",
      "   --------------------------- ------------ 104.3/150.0 MB 3.6 MB/s eta 0:00:13\n",
      "   ---------------------------- ----------- 105.1/150.0 MB 3.6 MB/s eta 0:00:13\n",
      "   ---------------------------- ----------- 105.9/150.0 MB 3.6 MB/s eta 0:00:13\n",
      "   ---------------------------- ----------- 106.7/150.0 MB 3.6 MB/s eta 0:00:13\n",
      "   ---------------------------- ----------- 107.5/150.0 MB 3.6 MB/s eta 0:00:12\n",
      "   ---------------------------- ----------- 108.3/150.0 MB 3.6 MB/s eta 0:00:12\n",
      "   ----------------------------- ---------- 109.1/150.0 MB 3.6 MB/s eta 0:00:12\n",
      "   ----------------------------- ---------- 109.8/150.0 MB 3.6 MB/s eta 0:00:12\n",
      "   ----------------------------- ---------- 110.6/150.0 MB 3.5 MB/s eta 0:00:12\n",
      "   ----------------------------- ---------- 111.1/150.0 MB 3.5 MB/s eta 0:00:11\n",
      "   ----------------------------- ---------- 111.9/150.0 MB 3.5 MB/s eta 0:00:11\n",
      "   ------------------------------ --------- 112.7/150.0 MB 3.6 MB/s eta 0:00:11\n",
      "   ------------------------------ --------- 113.5/150.0 MB 3.5 MB/s eta 0:00:11\n",
      "   ------------------------------ --------- 114.3/150.0 MB 3.5 MB/s eta 0:00:11\n",
      "   ------------------------------ --------- 115.1/150.0 MB 3.5 MB/s eta 0:00:10\n",
      "   ------------------------------ --------- 115.9/150.0 MB 3.5 MB/s eta 0:00:10\n",
      "   ------------------------------- -------- 116.7/150.0 MB 3.5 MB/s eta 0:00:10\n",
      "   ------------------------------- -------- 117.4/150.0 MB 3.5 MB/s eta 0:00:10\n",
      "   ------------------------------- -------- 118.2/150.0 MB 3.5 MB/s eta 0:00:09\n",
      "   ------------------------------- -------- 118.8/150.0 MB 3.5 MB/s eta 0:00:09\n",
      "   ------------------------------- -------- 119.5/150.0 MB 3.5 MB/s eta 0:00:09\n",
      "   -------------------------------- ------- 120.3/150.0 MB 3.5 MB/s eta 0:00:09\n",
      "   -------------------------------- ------- 121.1/150.0 MB 3.5 MB/s eta 0:00:09\n",
      "   -------------------------------- ------- 121.9/150.0 MB 3.6 MB/s eta 0:00:08\n",
      "   -------------------------------- ------- 122.7/150.0 MB 3.6 MB/s eta 0:00:08\n",
      "   -------------------------------- ------- 123.5/150.0 MB 3.6 MB/s eta 0:00:08\n",
      "   --------------------------------- ------ 124.3/150.0 MB 3.6 MB/s eta 0:00:08\n",
      "   --------------------------------- ------ 125.0/150.0 MB 3.6 MB/s eta 0:00:08\n",
      "   --------------------------------- ------ 125.8/150.0 MB 3.6 MB/s eta 0:00:07\n",
      "   --------------------------------- ------ 126.6/150.0 MB 3.6 MB/s eta 0:00:07\n",
      "   --------------------------------- ------ 127.4/150.0 MB 3.5 MB/s eta 0:00:07\n",
      "   ---------------------------------- ----- 128.2/150.0 MB 3.6 MB/s eta 0:00:07\n",
      "   ---------------------------------- ----- 129.0/150.0 MB 3.5 MB/s eta 0:00:06\n",
      "   ---------------------------------- ----- 129.5/150.0 MB 3.5 MB/s eta 0:00:06\n",
      "   ---------------------------------- ----- 130.3/150.0 MB 3.5 MB/s eta 0:00:06\n",
      "   ---------------------------------- ----- 131.1/150.0 MB 3.5 MB/s eta 0:00:06\n",
      "   ----------------------------------- ---- 131.9/150.0 MB 3.5 MB/s eta 0:00:06\n",
      "   ----------------------------------- ---- 132.6/150.0 MB 3.5 MB/s eta 0:00:05\n",
      "   ----------------------------------- ---- 133.4/150.0 MB 3.5 MB/s eta 0:00:05\n",
      "   ----------------------------------- ---- 134.2/150.0 MB 3.5 MB/s eta 0:00:05\n",
      "   ------------------------------------ --- 135.0/150.0 MB 3.5 MB/s eta 0:00:05\n",
      "   ------------------------------------ --- 135.8/150.0 MB 3.5 MB/s eta 0:00:04\n",
      "   ------------------------------------ --- 136.6/150.0 MB 3.5 MB/s eta 0:00:04\n",
      "   ------------------------------------ --- 137.4/150.0 MB 3.5 MB/s eta 0:00:04\n",
      "   ------------------------------------ --- 137.9/150.0 MB 3.5 MB/s eta 0:00:04\n",
      "   ------------------------------------ --- 138.7/150.0 MB 3.5 MB/s eta 0:00:04\n",
      "   ------------------------------------- -- 139.5/150.0 MB 3.5 MB/s eta 0:00:03\n",
      "   ------------------------------------- -- 140.2/150.0 MB 3.5 MB/s eta 0:00:03\n",
      "   ------------------------------------- -- 141.0/150.0 MB 3.5 MB/s eta 0:00:03\n",
      "   ------------------------------------- -- 141.8/150.0 MB 3.5 MB/s eta 0:00:03\n",
      "   -------------------------------------- - 142.6/150.0 MB 3.5 MB/s eta 0:00:03\n",
      "   -------------------------------------- - 143.4/150.0 MB 3.5 MB/s eta 0:00:02\n",
      "   -------------------------------------- - 144.2/150.0 MB 3.5 MB/s eta 0:00:02\n",
      "   -------------------------------------- - 145.0/150.0 MB 3.5 MB/s eta 0:00:02\n",
      "   -------------------------------------- - 145.5/150.0 MB 3.5 MB/s eta 0:00:02\n",
      "   -------------------------------------- - 146.0/150.0 MB 3.5 MB/s eta 0:00:02\n",
      "   ---------------------------------------  146.8/150.0 MB 3.5 MB/s eta 0:00:01\n",
      "   ---------------------------------------  147.6/150.0 MB 3.5 MB/s eta 0:00:01\n",
      "   ---------------------------------------  148.4/150.0 MB 3.5 MB/s eta 0:00:01\n",
      "   ---------------------------------------  149.2/150.0 MB 3.5 MB/s eta 0:00:01\n",
      "   ---------------------------------------  149.9/150.0 MB 3.5 MB/s eta 0:00:01\n",
      "   ---------------------------------------  149.9/150.0 MB 3.5 MB/s eta 0:00:01\n",
      "   ---------------------------------------  149.9/150.0 MB 3.5 MB/s eta 0:00:01\n",
      "   ---------------------------------------  149.9/150.0 MB 3.5 MB/s eta 0:00:01\n",
      "   ---------------------------------------  149.9/150.0 MB 3.5 MB/s eta 0:00:01\n",
      "   ---------------------------------------  149.9/150.0 MB 3.5 MB/s eta 0:00:01\n",
      "   ---------------------------------------- 150.0/150.0 MB 3.4 MB/s eta 0:00:00\n",
      "Installing collected packages: xgboost\n",
      "Successfully installed xgboost-3.0.2\n"
     ]
    }
   ],
   "source": [
    "!pip install xgboost"
   ]
  },
  {
   "cell_type": "code",
   "execution_count": null,
   "metadata": {},
   "outputs": [
    {
     "ename": "ModuleNotFoundError",
     "evalue": "No module named 'xgboost'",
     "output_type": "error",
     "traceback": [
      "\u001b[1;31m---------------------------------------------------------------------------\u001b[0m",
      "\u001b[1;31mModuleNotFoundError\u001b[0m                       Traceback (most recent call last)",
      "Cell \u001b[1;32mIn[34], line 11\u001b[0m\n\u001b[0;32m      9\u001b[0m \u001b[38;5;28;01mfrom\u001b[39;00m \u001b[38;5;21;01msklearn\u001b[39;00m\u001b[38;5;21;01m.\u001b[39;00m\u001b[38;5;21;01mensemble\u001b[39;00m \u001b[38;5;28;01mimport\u001b[39;00m ExtraTreesClassifier\n\u001b[0;32m     10\u001b[0m \u001b[38;5;28;01mfrom\u001b[39;00m \u001b[38;5;21;01msklearn\u001b[39;00m\u001b[38;5;21;01m.\u001b[39;00m\u001b[38;5;21;01mensemble\u001b[39;00m \u001b[38;5;28;01mimport\u001b[39;00m GradientBoostingClassifier\n\u001b[1;32m---> 11\u001b[0m \u001b[38;5;28;01mfrom\u001b[39;00m \u001b[38;5;21;01mxgboost\u001b[39;00m \u001b[38;5;28;01mimport\u001b[39;00m XGBClassifier\n",
      "\u001b[1;31mModuleNotFoundError\u001b[0m: No module named 'xgboost'"
     ]
    }
   ],
   "source": [
    "from sklearn.linear_model import LogisticRegression\n",
    "from sklearn.svm import SVC\n",
    "from sklearn.naive_bayes import MultinomialNB\n",
    "from sklearn.tree import DecisionTreeClassifier\n",
    "from sklearn.neighbors import KNeighborsClassifier\n",
    "from sklearn.ensemble import RandomForestClassifier\n",
    "from sklearn.ensemble import AdaBoostClassifier\n",
    "from sklearn.ensemble import BaggingClassifier\n",
    "from sklearn.ensemble import ExtraTreesClassifier\n",
    "from sklearn.ensemble import GradientBoostingClassifier\n",
    "from xgboost import XGBClassifier"
   ]
  },
  {
   "cell_type": "code",
   "execution_count": null,
   "metadata": {},
   "outputs": [],
   "source": [
    "svc = SVC(kernel= \"sigmoid\", gamma  = 1.0)\n",
    "knc = KNeighborsClassifier()\n",
    "mnb = MultinomialNB()\n",
    "dtc = DecisionTreeClassifier(max_depth = 5)\n",
    "lrc = LogisticRegression(solver = 'liblinear', penalty = 'l1')\n",
    "rfc = RandomForestClassifier(n_estimators = 50, random_state = 2 )\n",
    "abc = AdaBoostClassifier(n_estimators = 50, random_state = 2)\n",
    "bc = BaggingClassifier(n_estimators = 50, random_state = 2)\n",
    "etc = ExtraTreesClassifier(n_estimators = 50, random_state = 2)\n",
    "gbdt = GradientBoostingClassifier(n_estimators = 50, random_state = 2)    \n",
    "xgb  = XGBClassifier(n_estimators = 50, random_state = 2)"
   ]
  },
  {
   "cell_type": "code",
   "execution_count": null,
   "metadata": {},
   "outputs": [],
   "source": [
    "clfs = {\n",
    "    'SVC': svc,\n",
    "    'KNN': knc,\n",
    "    'NB': mnb,\n",
    "    'DT': dtc,\n",
    "    'LR': lrc,\n",
    "    'RF': rfc,\n",
    "    'Adaboost': abc,\n",
    "    'Bgc': bc,\n",
    "    'ETC': etc,\n",
    "    'GBDT': gbdt,\n",
    "    'xgb': xgb\n",
    "    \n",
    "}"
   ]
  },
  {
   "cell_type": "markdown",
   "metadata": {},
   "source": [
    "## Model Evaluation"
   ]
  },
  {
   "cell_type": "code",
   "execution_count": null,
   "metadata": {},
   "outputs": [],
   "source": [
    "from sklearn.metrics import accuracy_score, precision_score\n",
    "def train_classifier(clfs, X_train, y_train, X_test, y_test):\n",
    "    clfs.fit(X_train,y_train)\n",
    "    y_pred = clfs.predict(X_test)\n",
    "    accuracy = accuracy_score(y_test, y_pred)\n",
    "    precision = precision_score(y_test, y_pred)\n",
    "    return accuracy , precision"
   ]
  },
  {
   "cell_type": "code",
   "execution_count": null,
   "metadata": {},
   "outputs": [
    {
     "name": "stdout",
     "output_type": "stream",
     "text": [
      "\n",
      "For:  SVC\n",
      "Accuracy:  0.9661508704061895\n",
      "Precision:  0.9327731092436975\n",
      "\n",
      "For:  KNN\n",
      "Accuracy:  0.9274661508704062\n",
      "Precision:  1.0\n",
      "\n",
      "For:  NB\n",
      "Accuracy:  0.9709864603481625\n",
      "Precision:  0.9655172413793104\n",
      "\n",
      "For:  DT\n",
      "Accuracy:  0.9381044487427466\n",
      "Precision:  0.9021739130434783\n",
      "\n",
      "For:  LR\n",
      "Accuracy:  0.9632495164410058\n",
      "Precision:  0.9629629629629629\n",
      "\n",
      "For:  RF\n",
      "Accuracy:  0.971953578336557\n",
      "Precision:  0.943089430894309\n",
      "\n",
      "For:  Adaboost\n",
      "Accuracy:  0.9613152804642167\n",
      "Precision:  0.9375\n",
      "\n",
      "For:  Bgc\n",
      "Accuracy:  0.965183752417795\n",
      "Precision:  0.9180327868852459\n",
      "\n",
      "For:  ETC\n",
      "Accuracy:  0.9729206963249516\n",
      "Precision:  0.9296875\n",
      "\n",
      "For:  GBDT\n",
      "Accuracy:  0.9506769825918762\n",
      "Precision:  0.9393939393939394\n",
      "\n",
      "For:  xgb\n",
      "Accuracy:  0.9709864603481625\n",
      "Precision:  0.9576271186440678\n"
     ]
    }
   ],
   "source": [
    "accuracy_scores = []\n",
    "precision_scores = []\n",
    "for name , clfs in clfs.items():\n",
    "    current_accuracy, current_precision = train_classifier(clfs, X_train, y_train, X_test, y_test)\n",
    "    print()\n",
    "    print(\"For: \", name)\n",
    "    print(\"Accuracy: \", current_accuracy)\n",
    "    print(\"Precision: \", current_precision)\n",
    "    \n",
    "    accuracy_scores.append(current_accuracy)\n",
    "    precision_scores.append(current_precision)"
   ]
  }
 ],
 "metadata": {
  "kernelspec": {
   "display_name": "base",
   "language": "python",
   "name": "python3"
  },
  "language_info": {
   "codemirror_mode": {
    "name": "ipython",
    "version": 3
   },
   "file_extension": ".py",
   "mimetype": "text/x-python",
   "name": "python",
   "nbconvert_exporter": "python",
   "pygments_lexer": "ipython3",
   "version": "3.12.7"
  }
 },
 "nbformat": 4,
 "nbformat_minor": 2
}
